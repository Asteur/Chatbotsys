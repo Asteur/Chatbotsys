{
 "cells": [
  {
   "cell_type": "code",
   "execution_count": 1,
   "metadata": {},
   "outputs": [
    {
     "name": "stderr",
     "output_type": "stream",
     "text": [
      "/home/yoptar/reps/DeepPavlov/venv/lib/python3.6/site-packages/h5py/__init__.py:36: FutureWarning: Conversion of the second argument of issubdtype from `float` to `np.floating` is deprecated. In future, it will be treated as `np.float64 == np.dtype(float).type`.\n",
      "  from ._conv import register_converters as _register_converters\n",
      "Using TensorFlow backend.\n",
      "[nltk_data] Downloading package punkt to /home/yoptar/nltk_data...\n",
      "[nltk_data]   Package punkt is already up-to-date!\n",
      "[nltk_data] Downloading package stopwords to /home/yoptar/nltk_data...\n",
      "[nltk_data]   Package stopwords is already up-to-date!\n",
      "[nltk_data] Downloading package perluniprops to\n",
      "[nltk_data]     /home/yoptar/nltk_data...\n",
      "[nltk_data]   Package perluniprops is already up-to-date!\n",
      "[nltk_data] Downloading package nonbreaking_prefixes to\n",
      "[nltk_data]     /home/yoptar/nltk_data...\n",
      "[nltk_data]   Package nonbreaking_prefixes is already up-to-date!\n",
      "2018-06-18 18:06:55.74 DEBUG in 'gensim.models.doc2vec'['doc2vec'] at line 73: Fast version of gensim.models.doc2vec is being used\n",
      "2018-06-18 18:06:55.78 INFO in 'summa.preprocessing.cleaner'['textcleaner'] at line 20: 'pattern' package not found; tag filters are not available for English\n"
     ]
    }
   ],
   "source": [
    "from deeppavlov.core.models.component import Component\n",
    "from deeppavlov.models.classifiers.tokens_matcher.tokens_matcher import TokensMatcher"
   ]
  },
  {
   "cell_type": "code",
   "execution_count": 2,
   "metadata": {},
   "outputs": [],
   "source": [
    "class SimpleSkill(Component):\n",
    "    @staticmethod\n",
    "    def _confidence(utterances_batch):\n",
    "        return [1 for _ in utterances_batch]  # by default always be confident\n",
    "    \n",
    "    def __init__(self, response, confidence_fn=None, *args, **kwargs):\n",
    "        self.response = response\n",
    "        if confidence_fn is not None:\n",
    "            self._confidence = confidence_fn\n",
    "    \n",
    "    def __call__(self, utterances_batch, history_batch, states_batch):\n",
    "        tokens = [u.lower().split() for u in utterances_batch]\n",
    "        return [self.response for _ in utterances_batch], self._confidence(tokens)"
   ]
  },
  {
   "cell_type": "code",
   "execution_count": 3,
   "metadata": {},
   "outputs": [],
   "source": [
    "hello = SimpleSkill('Hello world!', confidence_fn=TokensMatcher([\"hi\", \"hello\", \"good day\"]))\n",
    "bye = SimpleSkill('Goodbye world!', confidence_fn=TokensMatcher([\"bye\", \"chao\", \"see you\"]))\n",
    "other = SimpleSkill(\"I don't understand, sorry\")"
   ]
  },
  {
   "cell_type": "code",
   "execution_count": 4,
   "metadata": {},
   "outputs": [],
   "source": [
    "from deeppavlov.core.agent.agent import Agent, HighestConfidenceSelector\n",
    "\n",
    "agent = Agent([hello, bye, other], skills_selector=HighestConfidenceSelector())"
   ]
  },
  {
   "cell_type": "code",
   "execution_count": 5,
   "metadata": {},
   "outputs": [
    {
     "data": {
      "text/plain": [
       "['Hello world!', 'Goodbye world!', \"I don't understand, sorry\"]"
      ]
     },
     "execution_count": 5,
     "metadata": {},
     "output_type": "execute_result"
    }
   ],
   "source": [
    "agent(['Hello', 'Bye', 'Or not'])"
   ]
  }
 ],
 "metadata": {
  "kernelspec": {
   "display_name": "DeepPavlov",
   "language": "python",
   "name": "deeppavlov"
  },
  "language_info": {
   "codemirror_mode": {
    "name": "ipython",
    "version": 3
   },
   "file_extension": ".py",
   "mimetype": "text/x-python",
   "name": "python",
   "nbconvert_exporter": "python",
   "pygments_lexer": "ipython3",
   "version": "3.6.3"
  }
 },
 "nbformat": 4,
 "nbformat_minor": 2
}
