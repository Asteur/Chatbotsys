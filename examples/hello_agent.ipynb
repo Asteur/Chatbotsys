{
 "cells": [
  {
   "cell_type": "code",
   "execution_count": 49,
   "metadata": {},
   "outputs": [],
   "source": [
    "from deeppavlov.core.models.component import Component\n",
    "from deeppavlov.core.agent.agent import Agent\n",
    "from deeppavlov.models.classifiers.vocab_intersection.vocab_intersection import VocabIntersection"
   ]
  },
  {
   "cell_type": "code",
   "execution_count": 4,
   "metadata": {},
   "outputs": [],
   "source": [
    "class OneLiner(Component):\n",
    "    def __init__(self, line, *args, **kwargs):\n",
    "        self.line = line\n",
    "    \n",
    "    def __call__(self, batch, *args, **kwargs):\n",
    "        return [(self.line, 1, None) for _ in batch]"
   ]
  },
  {
   "cell_type": "code",
   "execution_count": 5,
   "metadata": {},
   "outputs": [],
   "source": [
    "hello = OneLiner('Hello')\n",
    "world = OneLiner('world')\n",
    "other = OneLiner(\"I don't understand, sorry\")"
   ]
  },
  {
   "cell_type": "code",
   "execution_count": 63,
   "metadata": {},
   "outputs": [],
   "source": [
    "class CustomSelector(Component):\n",
    "    def __init__(self, *args, **kwargs):\n",
    "        self.f = [\n",
    "            VocabIntersection([\"hi\", \"hello\", \"good day\"]),\n",
    "            VocabIntersection([\"bye\", \"chao\", \"see you\"]),\n",
    "            lambda batch: [1. for _ in batch]\n",
    "        ]\n",
    "    \n",
    "    def __call__(self, utterances, batch_history, *responses):\n",
    "        tokens = [u.lower().split() for u in utterances]\n",
    "        confidences = [f(tokens) for f in self.f]\n",
    "        indexes = [c.index(max(c)) for c in zip(*confidences)]\n",
    "        return [responses[i][0] for i, *responses in zip(indexes, *responses)]"
   ]
  },
  {
   "cell_type": "code",
   "execution_count": 64,
   "metadata": {},
   "outputs": [],
   "source": [
    "agent = Agent([hello, world, other], skills_selector=CustomSelector())"
   ]
  },
  {
   "cell_type": "code",
   "execution_count": 65,
   "metadata": {},
   "outputs": [
    {
     "data": {
      "text/plain": [
       "['Hello', 'world', \"I don't understand, sorry\"]"
      ]
     },
     "execution_count": 65,
     "metadata": {},
     "output_type": "execute_result"
    }
   ],
   "source": [
    "agent(['Hello', 'Bye', 'Or not'])"
   ]
  }
 ],
 "metadata": {
  "kernelspec": {
   "display_name": "DeepPavlov",
   "language": "python",
   "name": "deeppavlov"
  },
  "language_info": {
   "codemirror_mode": {
    "name": "ipython",
    "version": 3
   },
   "file_extension": ".py",
   "mimetype": "text/x-python",
   "name": "python",
   "nbconvert_exporter": "python",
   "pygments_lexer": "ipython3",
   "version": "3.6.3"
  }
 },
 "nbformat": 4,
 "nbformat_minor": 2
}
